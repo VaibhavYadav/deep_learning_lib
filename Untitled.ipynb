{
 "cells": [
  {
   "cell_type": "code",
   "execution_count": 1,
   "metadata": {},
   "outputs": [],
   "source": [
    "import numpy as np\n",
    "import mnist_loader\n",
    "import functions as F\n",
    "from optimizers import SGD\n",
    "from util import Model"
   ]
  },
  {
   "cell_type": "code",
   "execution_count": 2,
   "metadata": {},
   "outputs": [],
   "source": [
    "training_data, *_ = mnist_loader.load_data_wrapper()"
   ]
  },
  {
   "cell_type": "code",
   "execution_count": 3,
   "metadata": {},
   "outputs": [],
   "source": [
    "# Convert data into right shape\n",
    "# Not the optimal way but does the job.\n",
    "a = np.array(list(training_data))\n",
    "a = a.T\n",
    "data = []\n",
    "target = []\n",
    "for d in a[0]:\n",
    "    data.append(d.flatten())\n",
    "for t in a[1]:\n",
    "    target.append(t.flatten())\n",
    "data = np.array(data)\n",
    "target = np.array(target)"
   ]
  },
  {
   "cell_type": "code",
   "execution_count": 4,
   "metadata": {},
   "outputs": [],
   "source": [
    "model = Model()\n",
    "model.add(F.Linear(784, 500))\n",
    "model.add(F.Sigmoid())\n",
    "model.add(F.Linear(500, 100))\n",
    "model.add(F.Sigmoid())\n",
    "model.add(F.Linear(100, 30))\n",
    "model.add(F.Sigmoid())\n",
    "model.add(F.Linear(30, 10))\n",
    "model.add(F.Sigmoid())\n",
    "model.initializeNetwork()"
   ]
  },
  {
   "cell_type": "code",
   "execution_count": 5,
   "metadata": {},
   "outputs": [
    {
     "name": "stdout",
     "output_type": "stream",
     "text": [
      "Loss at epoch = 0 and loss = 2211.8698689516173\n",
      "Loss at epoch = 1 and loss = 55.70875943829974\n",
      "Loss at epoch = 2 and loss = 92.37698530699284\n",
      "Loss at epoch = 3 and loss = 69.35152737664149\n",
      "Loss at epoch = 4 and loss = 41.20494976937636\n",
      "Loss at epoch = 5 and loss = 27.697527614737744\n",
      "Loss at epoch = 6 and loss = 18.843830642487287\n",
      "Loss at epoch = 7 and loss = 13.912583083626547\n",
      "Loss at epoch = 8 and loss = 10.932816117566023\n",
      "Loss at epoch = 9 and loss = 8.957768198815309\n"
     ]
    }
   ],
   "source": [
    "optim = SGD(model.parameters, lr=0.01)\n",
    "loss_fn = F.SquareLoss()\n",
    "model.fit(data, target, 100, 10, optim, loss_fn)"
   ]
  },
  {
   "cell_type": "code",
   "execution_count": 69,
   "metadata": {},
   "outputs": [
    {
     "name": "stdout",
     "output_type": "stream",
     "text": [
      "9\n",
      "9\n"
     ]
    }
   ],
   "source": [
    "n = np.random.randint(50000)\n",
    "print(np.argmax(model.predict([data[n]])))\n",
    "print(np.argmax(target[n]))"
   ]
  }
 ],
 "metadata": {
  "kernelspec": {
   "display_name": "Python 3",
   "language": "python",
   "name": "python3"
  },
  "language_info": {
   "codemirror_mode": {
    "name": "ipython",
    "version": 3
   },
   "file_extension": ".py",
   "mimetype": "text/x-python",
   "name": "python",
   "nbconvert_exporter": "python",
   "pygments_lexer": "ipython3",
   "version": "3.8.2"
  }
 },
 "nbformat": 4,
 "nbformat_minor": 4
}
